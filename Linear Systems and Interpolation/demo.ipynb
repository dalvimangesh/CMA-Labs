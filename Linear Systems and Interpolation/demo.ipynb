{
 "cells": [
  {
   "cell_type": "code",
   "execution_count": 97,
   "metadata": {},
   "outputs": [
    {
     "data": {
      "text/plain": [
       "'⁻⁴⁴⁵'"
      ]
     },
     "execution_count": 97,
     "metadata": {},
     "output_type": "execute_result"
    }
   ],
   "source": [
    "def get_superscript(n: int) -> str:\n",
    "    # Returns the superscript representation of a positive integer.\n",
    "    superscript_digits = str.maketrans(\"-0123456789\", \"⁻⁰¹²³⁴⁵⁶⁷⁸⁹\")\n",
    "    # use str.translate to replace each digit with its corresponding superscript\n",
    "    return str(n).translate(superscript_digits)\n",
    "get_superscript(-445)"
   ]
  },
  {
   "cell_type": "code",
   "execution_count": 96,
   "metadata": {},
   "outputs": [],
   "source": [
    "# import numpy as np\n",
    "\n",
    "# def create_linear_eq(points):\n",
    "#     # Convert the list of points into a matrix\n",
    "#     A = np.vstack([np.array([p[0], 1]) for p in points])\n",
    "#     b = np.array([p[1] for p in points])\n",
    "\n",
    "#     # Solve the system of linear equations using numpy.linalg\n",
    "#     x = np.linalg.solve(A, b)\n",
    "\n",
    "#     # Return the equation as a string in slope-intercept form (y = mx + b)\n",
    "#     return f\"y = {x[0]}x + {x[1]}\""
   ]
  }
 ],
 "metadata": {
  "kernelspec": {
   "display_name": "Python 3",
   "language": "python",
   "name": "python3"
  },
  "language_info": {
   "codemirror_mode": {
    "name": "ipython",
    "version": 3
   },
   "file_extension": ".py",
   "mimetype": "text/x-python",
   "name": "python",
   "nbconvert_exporter": "python",
   "pygments_lexer": "ipython3",
   "version": "3.8.10"
  },
  "orig_nbformat": 4,
  "vscode": {
   "interpreter": {
    "hash": "916dbcbb3f70747c44a77c7bcd40155683ae19c65e1c03b4aa3499c5328201f1"
   }
  }
 },
 "nbformat": 4,
 "nbformat_minor": 2
}
