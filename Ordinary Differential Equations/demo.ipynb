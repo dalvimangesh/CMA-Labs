{
 "cells": [
  {
   "cell_type": "code",
   "execution_count": null,
   "metadata": {},
   "outputs": [],
   "source": [
    "def van_der_pol(mu, y0):\n",
    "    # Define the Van der Pol equation as a system of first-order ODEs\n",
    "    def f(t, y):\n",
    "        y1, y2 = y\n",
    "        dy1_dt = y2\n",
    "        dy2_dt = mu * (1 - y1**2) * y2 - y1\n",
    "        return [dy1_dt, dy2_dt]\n",
    "\n",
    "    # Solve the system of ODEs using solve_ivp\n",
    "    sol = solve_ivp(f, [0, 100], y0, dense_output=True)\n",
    "\n",
    "    # Estimate the period of the limit cycle\n",
    "    t_eval = np.linspace(0, 100, 10000)\n",
    "    y = sol.sol(t_eval)\n",
    "    peaks, _ = find_peaks(y[0])\n",
    "    period = np.mean(np.diff(t_eval[peaks]))\n",
    "\n",
    "    # Plot the solution\n",
    "    plt.plot(t_eval, y[0], label='x(t)')\n",
    "    plt.plot(t_eval, y[1], label='dx(t)/dt')\n",
    "    plt.xlabel('Time')\n",
    "    plt.ylabel('Solution')\n",
    "    plt.title('Van der Pol equation with mu={}'.format(mu))\n",
    "    plt.legend()\n",
    "    plt.show()\n",
    "\n",
    "    return period"
   ]
  }
 ],
 "metadata": {
  "kernelspec": {
   "display_name": "Python 3",
   "language": "python",
   "name": "python3"
  },
  "language_info": {
   "codemirror_mode": {
    "name": "ipython",
    "version": 3
   },
   "file_extension": ".py",
   "mimetype": "text/x-python",
   "name": "python",
   "nbconvert_exporter": "python",
   "pygments_lexer": "ipython3",
   "version": "3.8.10"
  },
  "orig_nbformat": 4
 },
 "nbformat": 4,
 "nbformat_minor": 2
}
